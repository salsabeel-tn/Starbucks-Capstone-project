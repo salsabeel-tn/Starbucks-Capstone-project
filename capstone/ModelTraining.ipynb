{
 "cells": [
  {
   "cell_type": "markdown",
   "metadata": {},
   "source": [
    "### Starbucks Capstone Challenge\n",
    "# Model Training\n",
    "\n",
    "This notebook aims to train the models proposed to classify offers as appropriate or not."
   ]
  },
  {
   "cell_type": "markdown",
   "metadata": {},
   "source": [
    "## Define functions to train the classifiers"
   ]
  },
  {
   "cell_type": "markdown",
   "metadata": {},
   "source": [
    "### Import the necessary libraries"
   ]
  },
  {
   "cell_type": "code",
   "execution_count": 1,
   "metadata": {},
   "outputs": [],
   "source": [
    "import numpy as np\n",
    "import matplotlib.pyplot as plt\n",
    "import pandas as pd\n",
    "import sklearn.metrics as metrics\n",
    "import torch\n",
    "import torch.nn as nn\n",
    "import torch.optim as optim\n",
    "\n",
    "from models import LinearNN, RecurrentNN"
   ]
  },
  {
   "cell_type": "markdown",
   "metadata": {},
   "source": [
    "### Load the datasets"
   ]
  },
  {
   "cell_type": "code",
   "execution_count": 2,
   "metadata": {},
   "outputs": [
    {
     "name": "stdout",
     "output_type": "stream",
     "text": [
      "Archive:  dataloaders.zip\r\n",
      "  inflating: dataloaders.pt          \r\n"
     ]
    }
   ],
   "source": [
    "!unzip -o dataloaders.zip\n",
    "train_dataloader, valid_dataloader, test_dataloader = \\\n",
    "    torch.load('dataloaders.pt')"
   ]
  },
  {
   "cell_type": "markdown",
   "metadata": {},
   "source": [
    "### Define validation and training loops"
   ]
  },
  {
   "cell_type": "code",
   "execution_count": 3,
   "metadata": {},
   "outputs": [],
   "source": [
    "def validate(model, dataloader=valid_dataloader):\n",
    "    with torch.no_grad():\n",
    "        model.eval()\n",
    "        valid_loss = 0\n",
    "        y_true = []\n",
    "        y_pred = []\n",
    "        for features, targets in dataloader:\n",
    "            prediction = model(features)\n",
    "            \n",
    "            prediction = prediction.view(-1,2)\n",
    "            targets = targets.view(-1)\n",
    "            valid_loss += criterion(prediction, targets)\n",
    "\n",
    "            prediction = torch.softmax(prediction, dim=1)\n",
    "            _, prediction = prediction.topk(1, dim=1)\n",
    "            prediction = prediction.squeeze()\n",
    "\n",
    "            y_pred.extend(prediction.view(-1))\n",
    "            y_true.extend(targets.view(-1))\n",
    "\n",
    "        # normalize the loss\n",
    "        valid_loss /= len(dataloader)\n",
    "        valid_loss = valid_loss.item()\n",
    "\n",
    "        # Calculate the metrics\n",
    "        accuracy = metrics.accuracy_score(y_true, y_pred)\n",
    "        c_matrix = metrics.confusion_matrix(y_true, y_pred)\n",
    "        precision = metrics.precision_score(y_true, y_pred)\n",
    "        recall = metrics.recall_score(y_true, y_pred)\n",
    "\n",
    "        model.train()\n",
    "\n",
    "        return valid_loss, accuracy, precision, \\\n",
    "               recall, c_matrix"
   ]
  },
  {
   "cell_type": "code",
   "execution_count": 4,
   "metadata": {
    "scrolled": false
   },
   "outputs": [],
   "source": [
    "def train(model, model_name='classifier',\n",
    "          dataloader=train_dataloader, epochs=5000):\n",
    "    train_loss = []\n",
    "    valid_loss = []\n",
    "    min_valid_loss = np.inf\n",
    "    ## Perform N epochs of training\n",
    "    for epoch in range(1, epochs+1):\n",
    "        epoch_loss = 0\n",
    "        for batch, (features, targets) in enumerate(dataloader):\n",
    "            ## Train the network\n",
    "            optimizer.zero_grad()\n",
    "            prediction = model(features)\n",
    "            prediction = prediction.view(-1,2)\n",
    "            targets = targets.view(-1)\n",
    "            loss = criterion(prediction, targets)\n",
    "            loss.backward()\n",
    "            optimizer.step()\n",
    "            epoch_loss += loss.item()\n",
    "\n",
    "        # Normalize the training loss\n",
    "        epoch_loss /= len(dataloader)\n",
    "        train_loss.append(epoch_loss)\n",
    "        \n",
    "        # LR scheduler step\n",
    "        lr_scheduler.step(train_loss[-1])\n",
    "\n",
    "        # Validate\n",
    "        metrics = validate(model)\n",
    "        valid_loss.append(metrics[0])\n",
    "        print('Epoch {:4d}\\ttrain loss: {:7.4f}\\tvalid loss: {:7.4f}' \\\n",
    "              .format(epoch, train_loss[-1], valid_loss[-1]))\n",
    "\n",
    "        # Save the model if valid_loss has decreased\n",
    "        if valid_loss[-1] < min_valid_loss:\n",
    "            min_valid_loss = valid_loss[-1]\n",
    "            torch.save(model.state_dict(), model_name+'.pt')\n",
    "\n",
    "    return train_loss, valid_loss"
   ]
  },
  {
   "cell_type": "markdown",
   "metadata": {},
   "source": [
    "## Linear Classifier\n",
    "This phase trains a feed-forward neural network to classify offer sending as appropriate or not.  \n",
    "Being a traditional classification approach, this model will be the benchmark model to compare other classification methods."
   ]
  },
  {
   "cell_type": "code",
   "execution_count": 5,
   "metadata": {},
   "outputs": [],
   "source": [
    "linear_classifier = LinearNN(\n",
    "    input_size=16, output_size=2, hidden_layers=[128,128,128])\n",
    "criterion = nn.CrossEntropyLoss(\n",
    "    torch.tensor([(42200. / 34072.), 1.]))\n",
    "optimizer = optim.Adam(\n",
    "    linear_classifier.parameters(), lr=0.0001, weight_decay=0.0001)\n",
    "lr_scheduler = optim.lr_scheduler.ReduceLROnPlateau(\n",
    "    optimizer, factor=0.2, patience=15, verbose=True)"
   ]
  },
  {
   "cell_type": "code",
   "execution_count": 6,
   "metadata": {
    "scrolled": false
   },
   "outputs": [
    {
     "name": "stdout",
     "output_type": "stream",
     "text": [
      "Epoch    1\ttrain loss:  0.6419\tvalid loss:  0.6026\n",
      "Epoch    2\ttrain loss:  0.6010\tvalid loss:  0.5909\n",
      "Epoch    3\ttrain loss:  0.5942\tvalid loss:  0.5857\n",
      "Epoch    4\ttrain loss:  0.5899\tvalid loss:  0.5845\n",
      "Epoch    5\ttrain loss:  0.5871\tvalid loss:  0.5832\n",
      "Epoch    6\ttrain loss:  0.5862\tvalid loss:  0.5817\n",
      "Epoch    7\ttrain loss:  0.5864\tvalid loss:  0.5819\n",
      "Epoch    8\ttrain loss:  0.5841\tvalid loss:  0.5799\n",
      "Epoch    9\ttrain loss:  0.5834\tvalid loss:  0.5798\n",
      "Epoch   10\ttrain loss:  0.5820\tvalid loss:  0.5797\n",
      "Epoch   11\ttrain loss:  0.5815\tvalid loss:  0.5792\n",
      "Epoch   12\ttrain loss:  0.5811\tvalid loss:  0.5786\n",
      "Epoch   13\ttrain loss:  0.5805\tvalid loss:  0.5778\n",
      "Epoch   14\ttrain loss:  0.5801\tvalid loss:  0.5789\n",
      "Epoch   15\ttrain loss:  0.5795\tvalid loss:  0.5776\n",
      "Epoch   16\ttrain loss:  0.5790\tvalid loss:  0.5783\n",
      "Epoch   17\ttrain loss:  0.5791\tvalid loss:  0.5772\n",
      "Epoch   18\ttrain loss:  0.5789\tvalid loss:  0.5776\n",
      "Epoch   19\ttrain loss:  0.5769\tvalid loss:  0.5765\n",
      "Epoch   20\ttrain loss:  0.5774\tvalid loss:  0.5769\n",
      "Epoch   21\ttrain loss:  0.5778\tvalid loss:  0.5789\n",
      "Epoch   22\ttrain loss:  0.5781\tvalid loss:  0.5767\n",
      "Epoch   23\ttrain loss:  0.5766\tvalid loss:  0.5788\n",
      "Epoch   24\ttrain loss:  0.5772\tvalid loss:  0.5760\n",
      "Epoch   25\ttrain loss:  0.5770\tvalid loss:  0.5764\n",
      "Epoch   26\ttrain loss:  0.5763\tvalid loss:  0.5757\n",
      "Epoch   27\ttrain loss:  0.5758\tvalid loss:  0.5759\n",
      "Epoch   28\ttrain loss:  0.5760\tvalid loss:  0.5763\n",
      "Epoch   29\ttrain loss:  0.5757\tvalid loss:  0.5750\n",
      "Epoch   30\ttrain loss:  0.5760\tvalid loss:  0.5758\n",
      "Epoch   31\ttrain loss:  0.5753\tvalid loss:  0.5755\n",
      "Epoch   32\ttrain loss:  0.5751\tvalid loss:  0.5769\n",
      "Epoch   33\ttrain loss:  0.5754\tvalid loss:  0.5748\n",
      "Epoch   34\ttrain loss:  0.5753\tvalid loss:  0.5747\n",
      "Epoch   35\ttrain loss:  0.5752\tvalid loss:  0.5759\n",
      "Epoch   36\ttrain loss:  0.5750\tvalid loss:  0.5758\n",
      "Epoch   37\ttrain loss:  0.5748\tvalid loss:  0.5753\n",
      "Epoch   38\ttrain loss:  0.5744\tvalid loss:  0.5753\n",
      "Epoch   39\ttrain loss:  0.5744\tvalid loss:  0.5745\n",
      "Epoch   40\ttrain loss:  0.5743\tvalid loss:  0.5778\n",
      "Epoch   41\ttrain loss:  0.5740\tvalid loss:  0.5759\n",
      "Epoch   42\ttrain loss:  0.5738\tvalid loss:  0.5750\n",
      "Epoch   43\ttrain loss:  0.5744\tvalid loss:  0.5745\n",
      "Epoch   44\ttrain loss:  0.5740\tvalid loss:  0.5761\n",
      "Epoch   45\ttrain loss:  0.5732\tvalid loss:  0.5759\n",
      "Epoch   46\ttrain loss:  0.5735\tvalid loss:  0.5754\n",
      "Epoch   47\ttrain loss:  0.5736\tvalid loss:  0.5747\n",
      "Epoch   48\ttrain loss:  0.5739\tvalid loss:  0.5751\n",
      "Epoch   49\ttrain loss:  0.5737\tvalid loss:  0.5749\n",
      "Epoch   50\ttrain loss:  0.5732\tvalid loss:  0.5745\n",
      "Epoch   51\ttrain loss:  0.5728\tvalid loss:  0.5750\n",
      "Epoch   52\ttrain loss:  0.5730\tvalid loss:  0.5750\n",
      "Epoch   53\ttrain loss:  0.5728\tvalid loss:  0.5746\n",
      "Epoch   54\ttrain loss:  0.5729\tvalid loss:  0.5746\n",
      "Epoch   55\ttrain loss:  0.5731\tvalid loss:  0.5743\n",
      "Epoch   56\ttrain loss:  0.5729\tvalid loss:  0.5746\n",
      "Epoch   57\ttrain loss:  0.5724\tvalid loss:  0.5747\n",
      "Epoch   58\ttrain loss:  0.5727\tvalid loss:  0.5746\n",
      "Epoch   59\ttrain loss:  0.5725\tvalid loss:  0.5746\n",
      "Epoch   60\ttrain loss:  0.5727\tvalid loss:  0.5744\n",
      "Epoch   61\ttrain loss:  0.5721\tvalid loss:  0.5758\n",
      "Epoch   62\ttrain loss:  0.5725\tvalid loss:  0.5745\n",
      "Epoch   63\ttrain loss:  0.5725\tvalid loss:  0.5743\n",
      "Epoch   64\ttrain loss:  0.5721\tvalid loss:  0.5748\n",
      "Epoch   65\ttrain loss:  0.5723\tvalid loss:  0.5745\n",
      "Epoch   66\ttrain loss:  0.5719\tvalid loss:  0.5747\n",
      "Epoch   67\ttrain loss:  0.5712\tvalid loss:  0.5739\n",
      "Epoch   68\ttrain loss:  0.5714\tvalid loss:  0.5744\n",
      "Epoch   69\ttrain loss:  0.5715\tvalid loss:  0.5743\n",
      "Epoch   70\ttrain loss:  0.5723\tvalid loss:  0.5743\n",
      "Epoch   71\ttrain loss:  0.5721\tvalid loss:  0.5744\n",
      "Epoch   72\ttrain loss:  0.5714\tvalid loss:  0.5756\n",
      "Epoch   73\ttrain loss:  0.5715\tvalid loss:  0.5745\n",
      "Epoch   74\ttrain loss:  0.5712\tvalid loss:  0.5739\n",
      "Epoch   75\ttrain loss:  0.5708\tvalid loss:  0.5749\n",
      "Epoch   76\ttrain loss:  0.5720\tvalid loss:  0.5738\n",
      "Epoch   77\ttrain loss:  0.5713\tvalid loss:  0.5738\n",
      "Epoch   78\ttrain loss:  0.5714\tvalid loss:  0.5739\n",
      "Epoch   79\ttrain loss:  0.5715\tvalid loss:  0.5738\n",
      "Epoch   80\ttrain loss:  0.5712\tvalid loss:  0.5748\n",
      "Epoch   81\ttrain loss:  0.5710\tvalid loss:  0.5749\n",
      "Epoch   82\ttrain loss:  0.5706\tvalid loss:  0.5744\n",
      "Epoch   83\ttrain loss:  0.5706\tvalid loss:  0.5744\n",
      "Epoch   84\ttrain loss:  0.5708\tvalid loss:  0.5745\n",
      "Epoch   85\ttrain loss:  0.5709\tvalid loss:  0.5749\n",
      "Epoch   86\ttrain loss:  0.5711\tvalid loss:  0.5744\n",
      "Epoch   87\ttrain loss:  0.5710\tvalid loss:  0.5739\n",
      "Epoch   88\ttrain loss:  0.5711\tvalid loss:  0.5741\n",
      "Epoch   89\ttrain loss:  0.5707\tvalid loss:  0.5733\n",
      "Epoch   90\ttrain loss:  0.5706\tvalid loss:  0.5749\n",
      "Epoch   91\ttrain loss:  0.5707\tvalid loss:  0.5741\n",
      "Epoch   92\ttrain loss:  0.5710\tvalid loss:  0.5736\n",
      "Epoch   93\ttrain loss:  0.5707\tvalid loss:  0.5733\n",
      "Epoch   94\ttrain loss:  0.5706\tvalid loss:  0.5736\n",
      "Epoch   95\ttrain loss:  0.5703\tvalid loss:  0.5739\n",
      "Epoch   96\ttrain loss:  0.5700\tvalid loss:  0.5736\n",
      "Epoch   97\ttrain loss:  0.5705\tvalid loss:  0.5739\n",
      "Epoch   98\ttrain loss:  0.5703\tvalid loss:  0.5743\n",
      "Epoch   99\ttrain loss:  0.5701\tvalid loss:  0.5745\n",
      "Epoch  100\ttrain loss:  0.5703\tvalid loss:  0.5735\n",
      "Epoch  101\ttrain loss:  0.5702\tvalid loss:  0.5737\n",
      "Epoch  102\ttrain loss:  0.5696\tvalid loss:  0.5747\n",
      "Epoch  103\ttrain loss:  0.5700\tvalid loss:  0.5731\n",
      "Epoch  104\ttrain loss:  0.5700\tvalid loss:  0.5732\n",
      "Epoch  105\ttrain loss:  0.5703\tvalid loss:  0.5732\n",
      "Epoch  106\ttrain loss:  0.5695\tvalid loss:  0.5729\n",
      "Epoch  107\ttrain loss:  0.5694\tvalid loss:  0.5730\n",
      "Epoch  108\ttrain loss:  0.5697\tvalid loss:  0.5740\n",
      "Epoch  109\ttrain loss:  0.5695\tvalid loss:  0.5747\n",
      "Epoch  110\ttrain loss:  0.5698\tvalid loss:  0.5738\n",
      "Epoch  111\ttrain loss:  0.5695\tvalid loss:  0.5736\n",
      "Epoch  112\ttrain loss:  0.5702\tvalid loss:  0.5733\n",
      "Epoch  113\ttrain loss:  0.5701\tvalid loss:  0.5733\n",
      "Epoch  114\ttrain loss:  0.5700\tvalid loss:  0.5745\n",
      "Epoch  115\ttrain loss:  0.5693\tvalid loss:  0.5745\n",
      "Epoch  116\ttrain loss:  0.5691\tvalid loss:  0.5747\n",
      "Epoch  117\ttrain loss:  0.5695\tvalid loss:  0.5742\n",
      "Epoch  118\ttrain loss:  0.5701\tvalid loss:  0.5743\n",
      "Epoch  119\ttrain loss:  0.5692\tvalid loss:  0.5731\n",
      "Epoch  120\ttrain loss:  0.5697\tvalid loss:  0.5737\n",
      "Epoch  121\ttrain loss:  0.5693\tvalid loss:  0.5742\n",
      "Epoch  122\ttrain loss:  0.5693\tvalid loss:  0.5728\n",
      "Epoch  123\ttrain loss:  0.5693\tvalid loss:  0.5740\n",
      "Epoch  124\ttrain loss:  0.5696\tvalid loss:  0.5734\n",
      "Epoch  125\ttrain loss:  0.5693\tvalid loss:  0.5739\n",
      "Epoch  126\ttrain loss:  0.5699\tvalid loss:  0.5738\n",
      "Epoch  127\ttrain loss:  0.5694\tvalid loss:  0.5731\n",
      "Epoch  128\ttrain loss:  0.5693\tvalid loss:  0.5735\n",
      "Epoch  129\ttrain loss:  0.5694\tvalid loss:  0.5739\n",
      "Epoch  130\ttrain loss:  0.5691\tvalid loss:  0.5750\n",
      "Epoch  131\ttrain loss:  0.5694\tvalid loss:  0.5748\n",
      "Epoch  132\ttrain loss:  0.5689\tvalid loss:  0.5728\n",
      "Epoch  133\ttrain loss:  0.5689\tvalid loss:  0.5732\n",
      "Epoch  134\ttrain loss:  0.5694\tvalid loss:  0.5734\n",
      "Epoch  135\ttrain loss:  0.5696\tvalid loss:  0.5739\n",
      "Epoch  136\ttrain loss:  0.5687\tvalid loss:  0.5747\n",
      "Epoch  137\ttrain loss:  0.5690\tvalid loss:  0.5738\n",
      "Epoch  138\ttrain loss:  0.5687\tvalid loss:  0.5736\n",
      "Epoch  139\ttrain loss:  0.5689\tvalid loss:  0.5737\n",
      "Epoch  140\ttrain loss:  0.5686\tvalid loss:  0.5736\n",
      "Epoch  141\ttrain loss:  0.5693\tvalid loss:  0.5740\n",
      "Epoch  142\ttrain loss:  0.5689\tvalid loss:  0.5729\n",
      "Epoch  143\ttrain loss:  0.5691\tvalid loss:  0.5734\n",
      "Epoch  144\ttrain loss:  0.5689\tvalid loss:  0.5739\n",
      "Epoch  145\ttrain loss:  0.5690\tvalid loss:  0.5738\n",
      "Epoch  146\ttrain loss:  0.5685\tvalid loss:  0.5738\n",
      "Epoch  147\ttrain loss:  0.5694\tvalid loss:  0.5732\n",
      "Epoch  148\ttrain loss:  0.5692\tvalid loss:  0.5733\n",
      "Epoch  149\ttrain loss:  0.5687\tvalid loss:  0.5738\n",
      "Epoch  150\ttrain loss:  0.5689\tvalid loss:  0.5739\n"
     ]
    }
   ],
   "source": [
    "linear_loss = train(linear_classifier,\n",
    "                    model_name='linear_classifier',\n",
    "                    epochs=150)"
   ]
  },
  {
   "cell_type": "markdown",
   "metadata": {},
   "source": [
    "## Recurrent Classifier\n",
    "This phase trains a recurrent neural network to classify offer sending as appropriate or not.  \n",
    "This project proposes this model as the most suitable classification approach, considering the fact that the data is sequential."
   ]
  },
  {
   "cell_type": "code",
   "execution_count": 7,
   "metadata": {},
   "outputs": [],
   "source": [
    "recurrent_classifier = RecurrentNN(\n",
    "    input_size=16, output_size=2, hidden_size=128, hidden_layers=2)\n",
    "criterion = nn.CrossEntropyLoss(\n",
    "    torch.tensor([(42200. / 34072.), 1.]))\n",
    "optimizer = optim.Adam(\n",
    "    recurrent_classifier.parameters(), lr=0.0001, weight_decay=0.0001)\n",
    "lr_scheduler = optim.lr_scheduler.ReduceLROnPlateau(\n",
    "    optimizer, factor=0.2, patience=15, verbose=True)"
   ]
  },
  {
   "cell_type": "code",
   "execution_count": 8,
   "metadata": {
    "scrolled": false
   },
   "outputs": [
    {
     "name": "stdout",
     "output_type": "stream",
     "text": [
      "Epoch    1\ttrain loss:  0.6572\tvalid loss:  0.6435\n",
      "Epoch    2\ttrain loss:  0.6291\tvalid loss:  0.6182\n",
      "Epoch    3\ttrain loss:  0.6100\tvalid loss:  0.6074\n",
      "Epoch    4\ttrain loss:  0.6046\tvalid loss:  0.6045\n",
      "Epoch    5\ttrain loss:  0.6016\tvalid loss:  0.6011\n",
      "Epoch    6\ttrain loss:  0.5982\tvalid loss:  0.5992\n",
      "Epoch    7\ttrain loss:  0.5957\tvalid loss:  0.5962\n",
      "Epoch    8\ttrain loss:  0.5944\tvalid loss:  0.5935\n",
      "Epoch    9\ttrain loss:  0.5925\tvalid loss:  0.5931\n",
      "Epoch   10\ttrain loss:  0.5917\tvalid loss:  0.5918\n",
      "Epoch   11\ttrain loss:  0.5905\tvalid loss:  0.5915\n",
      "Epoch   12\ttrain loss:  0.5901\tvalid loss:  0.5901\n",
      "Epoch   13\ttrain loss:  0.5895\tvalid loss:  0.5907\n",
      "Epoch   14\ttrain loss:  0.5890\tvalid loss:  0.5892\n",
      "Epoch   15\ttrain loss:  0.5887\tvalid loss:  0.5887\n",
      "Epoch   16\ttrain loss:  0.5880\tvalid loss:  0.5887\n",
      "Epoch   17\ttrain loss:  0.5880\tvalid loss:  0.5878\n",
      "Epoch   18\ttrain loss:  0.5877\tvalid loss:  0.5886\n",
      "Epoch   19\ttrain loss:  0.5877\tvalid loss:  0.5880\n",
      "Epoch   20\ttrain loss:  0.5872\tvalid loss:  0.5876\n",
      "Epoch   21\ttrain loss:  0.5865\tvalid loss:  0.5863\n",
      "Epoch   22\ttrain loss:  0.5858\tvalid loss:  0.5871\n",
      "Epoch   23\ttrain loss:  0.5854\tvalid loss:  0.5884\n",
      "Epoch   24\ttrain loss:  0.5859\tvalid loss:  0.5857\n",
      "Epoch   25\ttrain loss:  0.5852\tvalid loss:  0.5867\n",
      "Epoch   26\ttrain loss:  0.5851\tvalid loss:  0.5869\n",
      "Epoch   27\ttrain loss:  0.5856\tvalid loss:  0.5857\n",
      "Epoch   28\ttrain loss:  0.5844\tvalid loss:  0.5854\n",
      "Epoch   29\ttrain loss:  0.5846\tvalid loss:  0.5858\n",
      "Epoch   30\ttrain loss:  0.5842\tvalid loss:  0.5861\n",
      "Epoch   31\ttrain loss:  0.5846\tvalid loss:  0.5845\n",
      "Epoch   32\ttrain loss:  0.5839\tvalid loss:  0.5835\n",
      "Epoch   33\ttrain loss:  0.5837\tvalid loss:  0.5843\n",
      "Epoch   34\ttrain loss:  0.5831\tvalid loss:  0.5837\n",
      "Epoch   35\ttrain loss:  0.5832\tvalid loss:  0.5837\n",
      "Epoch   36\ttrain loss:  0.5828\tvalid loss:  0.5844\n",
      "Epoch   37\ttrain loss:  0.5826\tvalid loss:  0.5833\n",
      "Epoch   38\ttrain loss:  0.5827\tvalid loss:  0.5853\n",
      "Epoch   39\ttrain loss:  0.5820\tvalid loss:  0.5836\n",
      "Epoch   40\ttrain loss:  0.5823\tvalid loss:  0.5835\n",
      "Epoch   41\ttrain loss:  0.5820\tvalid loss:  0.5835\n",
      "Epoch   42\ttrain loss:  0.5815\tvalid loss:  0.5831\n",
      "Epoch   43\ttrain loss:  0.5812\tvalid loss:  0.5827\n",
      "Epoch   44\ttrain loss:  0.5821\tvalid loss:  0.5817\n",
      "Epoch   45\ttrain loss:  0.5811\tvalid loss:  0.5819\n",
      "Epoch   46\ttrain loss:  0.5817\tvalid loss:  0.5817\n",
      "Epoch   47\ttrain loss:  0.5807\tvalid loss:  0.5820\n",
      "Epoch   48\ttrain loss:  0.5810\tvalid loss:  0.5835\n",
      "Epoch   49\ttrain loss:  0.5810\tvalid loss:  0.5826\n",
      "Epoch   50\ttrain loss:  0.5802\tvalid loss:  0.5823\n",
      "Epoch   51\ttrain loss:  0.5800\tvalid loss:  0.5813\n",
      "Epoch   52\ttrain loss:  0.5809\tvalid loss:  0.5818\n",
      "Epoch   53\ttrain loss:  0.5803\tvalid loss:  0.5816\n",
      "Epoch   54\ttrain loss:  0.5809\tvalid loss:  0.5816\n",
      "Epoch   55\ttrain loss:  0.5794\tvalid loss:  0.5816\n",
      "Epoch   56\ttrain loss:  0.5792\tvalid loss:  0.5807\n",
      "Epoch   57\ttrain loss:  0.5794\tvalid loss:  0.5799\n",
      "Epoch   58\ttrain loss:  0.5800\tvalid loss:  0.5809\n",
      "Epoch   59\ttrain loss:  0.5795\tvalid loss:  0.5803\n",
      "Epoch   60\ttrain loss:  0.5790\tvalid loss:  0.5820\n",
      "Epoch   61\ttrain loss:  0.5792\tvalid loss:  0.5816\n",
      "Epoch   62\ttrain loss:  0.5794\tvalid loss:  0.5813\n",
      "Epoch   63\ttrain loss:  0.5788\tvalid loss:  0.5799\n",
      "Epoch   64\ttrain loss:  0.5786\tvalid loss:  0.5801\n",
      "Epoch   65\ttrain loss:  0.5788\tvalid loss:  0.5804\n",
      "Epoch   66\ttrain loss:  0.5783\tvalid loss:  0.5803\n",
      "Epoch   67\ttrain loss:  0.5787\tvalid loss:  0.5802\n",
      "Epoch   68\ttrain loss:  0.5778\tvalid loss:  0.5791\n",
      "Epoch   69\ttrain loss:  0.5784\tvalid loss:  0.5798\n",
      "Epoch   70\ttrain loss:  0.5780\tvalid loss:  0.5791\n",
      "Epoch   71\ttrain loss:  0.5783\tvalid loss:  0.5796\n",
      "Epoch   72\ttrain loss:  0.5772\tvalid loss:  0.5798\n",
      "Epoch   73\ttrain loss:  0.5777\tvalid loss:  0.5801\n",
      "Epoch   74\ttrain loss:  0.5775\tvalid loss:  0.5809\n",
      "Epoch   75\ttrain loss:  0.5776\tvalid loss:  0.5794\n",
      "Epoch   76\ttrain loss:  0.5773\tvalid loss:  0.5796\n",
      "Epoch   77\ttrain loss:  0.5773\tvalid loss:  0.5783\n",
      "Epoch   78\ttrain loss:  0.5772\tvalid loss:  0.5802\n",
      "Epoch   79\ttrain loss:  0.5769\tvalid loss:  0.5796\n",
      "Epoch   80\ttrain loss:  0.5771\tvalid loss:  0.5791\n",
      "Epoch   81\ttrain loss:  0.5766\tvalid loss:  0.5781\n",
      "Epoch   82\ttrain loss:  0.5772\tvalid loss:  0.5779\n",
      "Epoch   83\ttrain loss:  0.5765\tvalid loss:  0.5782\n",
      "Epoch   84\ttrain loss:  0.5767\tvalid loss:  0.5788\n",
      "Epoch   85\ttrain loss:  0.5767\tvalid loss:  0.5773\n",
      "Epoch   86\ttrain loss:  0.5768\tvalid loss:  0.5785\n",
      "Epoch   87\ttrain loss:  0.5762\tvalid loss:  0.5791\n",
      "Epoch   88\ttrain loss:  0.5756\tvalid loss:  0.5781\n",
      "Epoch   89\ttrain loss:  0.5758\tvalid loss:  0.5781\n",
      "Epoch   90\ttrain loss:  0.5761\tvalid loss:  0.5776\n",
      "Epoch   91\ttrain loss:  0.5759\tvalid loss:  0.5781\n",
      "Epoch   92\ttrain loss:  0.5755\tvalid loss:  0.5778\n",
      "Epoch   93\ttrain loss:  0.5755\tvalid loss:  0.5780\n",
      "Epoch   94\ttrain loss:  0.5750\tvalid loss:  0.5775\n",
      "Epoch   95\ttrain loss:  0.5749\tvalid loss:  0.5772\n",
      "Epoch   96\ttrain loss:  0.5749\tvalid loss:  0.5762\n",
      "Epoch   97\ttrain loss:  0.5746\tvalid loss:  0.5775\n",
      "Epoch   98\ttrain loss:  0.5741\tvalid loss:  0.5769\n",
      "Epoch   99\ttrain loss:  0.5741\tvalid loss:  0.5765\n",
      "Epoch  100\ttrain loss:  0.5738\tvalid loss:  0.5774\n",
      "Epoch  101\ttrain loss:  0.5742\tvalid loss:  0.5775\n",
      "Epoch  102\ttrain loss:  0.5742\tvalid loss:  0.5759\n",
      "Epoch  103\ttrain loss:  0.5744\tvalid loss:  0.5772\n",
      "Epoch  104\ttrain loss:  0.5736\tvalid loss:  0.5759\n",
      "Epoch  105\ttrain loss:  0.5732\tvalid loss:  0.5756\n",
      "Epoch  106\ttrain loss:  0.5737\tvalid loss:  0.5756\n",
      "Epoch  107\ttrain loss:  0.5731\tvalid loss:  0.5760\n",
      "Epoch  108\ttrain loss:  0.5736\tvalid loss:  0.5778\n",
      "Epoch  109\ttrain loss:  0.5731\tvalid loss:  0.5752\n",
      "Epoch  110\ttrain loss:  0.5724\tvalid loss:  0.5764\n",
      "Epoch  111\ttrain loss:  0.5729\tvalid loss:  0.5754\n",
      "Epoch  112\ttrain loss:  0.5728\tvalid loss:  0.5758\n",
      "Epoch  113\ttrain loss:  0.5722\tvalid loss:  0.5759\n",
      "Epoch  114\ttrain loss:  0.5731\tvalid loss:  0.5760\n",
      "Epoch  115\ttrain loss:  0.5728\tvalid loss:  0.5765\n",
      "Epoch  116\ttrain loss:  0.5724\tvalid loss:  0.5756\n",
      "Epoch  117\ttrain loss:  0.5721\tvalid loss:  0.5752\n",
      "Epoch  118\ttrain loss:  0.5721\tvalid loss:  0.5747\n",
      "Epoch  119\ttrain loss:  0.5723\tvalid loss:  0.5762\n",
      "Epoch  120\ttrain loss:  0.5717\tvalid loss:  0.5740\n",
      "Epoch  121\ttrain loss:  0.5721\tvalid loss:  0.5755\n",
      "Epoch  122\ttrain loss:  0.5718\tvalid loss:  0.5753\n",
      "Epoch  123\ttrain loss:  0.5721\tvalid loss:  0.5741\n",
      "Epoch  124\ttrain loss:  0.5721\tvalid loss:  0.5759\n",
      "Epoch  125\ttrain loss:  0.5716\tvalid loss:  0.5752\n",
      "Epoch  126\ttrain loss:  0.5711\tvalid loss:  0.5752\n",
      "Epoch  127\ttrain loss:  0.5715\tvalid loss:  0.5743\n",
      "Epoch  128\ttrain loss:  0.5719\tvalid loss:  0.5752\n",
      "Epoch  129\ttrain loss:  0.5719\tvalid loss:  0.5751\n",
      "Epoch  130\ttrain loss:  0.5718\tvalid loss:  0.5754\n",
      "Epoch  131\ttrain loss:  0.5711\tvalid loss:  0.5760\n",
      "Epoch  132\ttrain loss:  0.5715\tvalid loss:  0.5754\n",
      "Epoch  133\ttrain loss:  0.5707\tvalid loss:  0.5739\n",
      "Epoch  134\ttrain loss:  0.5715\tvalid loss:  0.5743\n",
      "Epoch  135\ttrain loss:  0.5712\tvalid loss:  0.5745\n",
      "Epoch  136\ttrain loss:  0.5711\tvalid loss:  0.5745\n",
      "Epoch  137\ttrain loss:  0.5709\tvalid loss:  0.5744\n",
      "Epoch  138\ttrain loss:  0.5705\tvalid loss:  0.5741\n",
      "Epoch  139\ttrain loss:  0.5716\tvalid loss:  0.5748\n",
      "Epoch  140\ttrain loss:  0.5710\tvalid loss:  0.5752\n",
      "Epoch  141\ttrain loss:  0.5710\tvalid loss:  0.5748\n",
      "Epoch  142\ttrain loss:  0.5710\tvalid loss:  0.5742\n",
      "Epoch  143\ttrain loss:  0.5707\tvalid loss:  0.5749\n",
      "Epoch  144\ttrain loss:  0.5704\tvalid loss:  0.5757\n",
      "Epoch  145\ttrain loss:  0.5709\tvalid loss:  0.5758\n",
      "Epoch  146\ttrain loss:  0.5698\tvalid loss:  0.5743\n",
      "Epoch  147\ttrain loss:  0.5703\tvalid loss:  0.5743\n",
      "Epoch  148\ttrain loss:  0.5703\tvalid loss:  0.5752\n",
      "Epoch  149\ttrain loss:  0.5708\tvalid loss:  0.5743\n",
      "Epoch  150\ttrain loss:  0.5707\tvalid loss:  0.5743\n"
     ]
    }
   ],
   "source": [
    "recurrent_loss = train(recurrent_classifier,\n",
    "                       model_name='recurrent_classifier',\n",
    "                       epochs=150)"
   ]
  },
  {
   "cell_type": "markdown",
   "metadata": {},
   "source": [
    "## Training phase results"
   ]
  },
  {
   "cell_type": "code",
   "execution_count": 9,
   "metadata": {},
   "outputs": [
    {
     "data": {
      "image/png": "[encoded data removed]",
      "text/plain": [
       "<Figure size 1080x288 with 2 Axes>"
      ]
     },
     "metadata": {
      "needs_background": "light"
     },
     "output_type": "display_data"
    }
   ],
   "source": [
    "fig, (ax0, ax1) = plt.subplots(\n",
    "    figsize=(15,4), nrows=1, ncols=2, sharey=True)\n",
    "\n",
    "ax0.plot(linear_loss[0], label='train')\n",
    "ax0.plot(linear_loss[1], label='valid')\n",
    "ax0.set_title('Linear Classifier')\n",
    "ax0.set_ylabel('loss')\n",
    "ax0.set_xlabel('epoch')\n",
    "ax0.legend()\n",
    "\n",
    "ax1.plot(recurrent_loss[0], label='train')\n",
    "ax1.plot(recurrent_loss[1], label='valid')\n",
    "ax1.set_title('Recurrent Classifier')\n",
    "ax1.set_ylabel('loss')\n",
    "ax1.set_xlabel('epoch')\n",
    "ax1.legend()\n",
    "ax1.tick_params(reset=True)\n",
    "\n",
    "plt.show()"
   ]
  },
  {
   "cell_type": "markdown",
   "metadata": {},
   "source": [
    "## Test the trained models\n",
    "Use unseen data to calculate metrics for both models."
   ]
  },
  {
   "cell_type": "code",
   "execution_count": 10,
   "metadata": {},
   "outputs": [
    {
     "name": "stdout",
     "output_type": "stream",
     "text": [
      "Models loaded successfully\n"
     ]
    }
   ],
   "source": [
    "## Load the saved models\n",
    "\n",
    "# Linear\n",
    "linear_classifier.load_state_dict(\n",
    "    torch.load('linear_classifier.pt'))\n",
    "\n",
    "# Recurrent\n",
    "recurrent_classifier.load_state_dict(\n",
    "    torch.load('recurrent_classifier.pt'))\n",
    "\n",
    "print('Models loaded successfully')"
   ]
  },
  {
   "cell_type": "code",
   "execution_count": 11,
   "metadata": {},
   "outputs": [],
   "source": [
    "## Test models\n",
    "\n",
    "l_loss, l_acc, l_prec, l_rec, l_cmatrix = \\\n",
    "    validate(linear_classifier, test_dataloader)\n",
    "\n",
    "r_loss, r_acc, r_prec, r_rec, r_cmatrix = \\\n",
    "    validate(recurrent_classifier, test_dataloader)"
   ]
  },
  {
   "cell_type": "markdown",
   "metadata": {},
   "source": [
    "### Compare results"
   ]
  },
  {
   "cell_type": "code",
   "execution_count": 12,
   "metadata": {},
   "outputs": [],
   "source": [
    "def build_cmatrix(c_matrix, ax):\n",
    "    ax.matshow(c_matrix, cmap='YlGn')\n",
    "    ax.set_xlabel('Confusion Matrix')\n",
    "    ax.text(0, 0, f'TN\\n{c_matrix[0,0]}',\n",
    "            ha=\"center\", va=\"center\", color=\"w\")\n",
    "    ax.text(0, 1, f'FP\\n{c_matrix[0,1]}',\n",
    "            ha=\"center\", va=\"center\", color=\"k\")\n",
    "    ax.text(1, 0, f'FN\\n{c_matrix[1,0]}',\n",
    "            ha=\"center\", va=\"center\", color=\"k\")\n",
    "    ax.text(1, 1, f'TP\\n{c_matrix[1,1]}',\n",
    "            ha=\"center\", va=\"center\", color=\"k\")"
   ]
  },
  {
   "cell_type": "code",
   "execution_count": 13,
   "metadata": {},
   "outputs": [
    {
     "data": {
      "text/html": [
       "<div>\n",
       "<style scoped>\n",
       "    .dataframe tbody tr th:only-of-type {\n",
       "        vertical-align: middle;\n",
       "    }\n",
       "\n",
       "    .dataframe tbody tr th {\n",
       "        vertical-align: top;\n",
       "    }\n",
       "\n",
       "    .dataframe thead th {\n",
       "        text-align: right;\n",
       "    }\n",
       "</style>\n",
       "<table border=\"1\" class=\"dataframe\">\n",
       "  <thead>\n",
       "    <tr style=\"text-align: right;\">\n",
       "      <th></th>\n",
       "      <th>Linear Classifier</th>\n",
       "      <th>Recurrent Classifier</th>\n",
       "    </tr>\n",
       "  </thead>\n",
       "  <tbody>\n",
       "    <tr>\n",
       "      <th>accuracy (%)</th>\n",
       "      <td>67.97%</td>\n",
       "      <td>68.57%</td>\n",
       "    </tr>\n",
       "    <tr>\n",
       "      <th>precision</th>\n",
       "      <td>0.6742</td>\n",
       "      <td>0.6998</td>\n",
       "    </tr>\n",
       "    <tr>\n",
       "      <th>recall</th>\n",
       "      <td>0.5566</td>\n",
       "      <td>0.5269</td>\n",
       "    </tr>\n",
       "    <tr>\n",
       "      <th>loss</th>\n",
       "      <td>0.5646</td>\n",
       "      <td>0.5655</td>\n",
       "    </tr>\n",
       "  </tbody>\n",
       "</table>\n",
       "</div>"
      ],
      "text/plain": [
       "             Linear Classifier Recurrent Classifier\n",
       "accuracy (%)            67.97%               68.57%\n",
       "precision               0.6742               0.6998\n",
       "recall                  0.5566               0.5269\n",
       "loss                    0.5646               0.5655"
      ]
     },
     "metadata": {},
     "output_type": "display_data"
    },
    {
     "data": {
      "image/png": "[encoded data removed]",
      "text/plain": [
       "<Figure size 432x288 with 2 Axes>"
      ]
     },
     "metadata": {
      "needs_background": "light"
     },
     "output_type": "display_data"
    }
   ],
   "source": [
    "# Build the confusion matrix\n",
    "fig, axs = plt.subplots(nrows=1, ncols=2)\n",
    "\n",
    "build_cmatrix(l_cmatrix, axs[0])\n",
    "axs[0].set_title('Linear Classifier\\n')\n",
    "\n",
    "build_cmatrix(r_cmatrix, axs[1])\n",
    "axs[1].set_title('Recurrent Classifier\\n')\n",
    "\n",
    "# Table of results\n",
    "result_df = pd.DataFrame(\n",
    "    [[f'{l_acc*100:.2f}%', l_prec, l_rec, l_loss],\n",
    "     [f'{r_acc*100:.2f}%', r_prec, r_rec, r_loss]],\n",
    "    columns=['accuracy (%)', 'precision', 'recall', 'loss'],\n",
    "    index=['Linear Classifier',\n",
    "         'Recurrent Classifier']).T\n",
    "\n",
    "# Display results\n",
    "pd.set_option('display.precision', 4)\n",
    "display(result_df)\n",
    "plt.show()"
   ]
  }
 ],
 "metadata": {
  "kernelspec": {
   "display_name": "Python 3",
   "language": "python",
   "name": "python3"
  },
  "language_info": {
   "codemirror_mode": {
    "name": "ipython",
    "version": 3
   },
   "file_extension": ".py",
   "mimetype": "text/x-python",
   "name": "python",
   "nbconvert_exporter": "python",
   "pygments_lexer": "ipython3",
   "version": "3.6.9"
  }
 },
 "nbformat": 4,
 "nbformat_minor": 4
}
